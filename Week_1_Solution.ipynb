{
  "nbformat": 4,
  "nbformat_minor": 0,
  "metadata": {
    "colab": {
      "provenance": []
    },
    "kernelspec": {
      "name": "python3",
      "display_name": "Python 3"
    },
    "language_info": {
      "name": "python"
    }
  },
  "cells": [
    {
      "cell_type": "markdown",
      "source": [],
      "metadata": {
        "id": "mHyj2rI-Oe4K"
      }
    },
    {
      "cell_type": "markdown",
      "source": [
        "Arewa Data Science Academy\n",
        "\n",
        "Deep Learning Cohort2.0\n",
        "\n",
        "Name: Kaloma Usman Majikumna\n"
      ],
      "metadata": {
        "id": "d1bqk89zpfZi"
      }
    },
    {
      "cell_type": "code",
      "source": [
        "import torch"
      ],
      "metadata": {
        "id": "n6qK0EB-pkNn"
      },
      "execution_count": 1,
      "outputs": []
    },
    {
      "cell_type": "code",
      "source": [
        "#2 Create a random tensor with shape (7, 7).\n",
        "# Creating my random tensor\n",
        "random_tensor = torch.rand(7, 7)"
      ],
      "metadata": {
        "id": "THx1Sw4zq3dr"
      },
      "execution_count": 2,
      "outputs": []
    },
    {
      "cell_type": "code",
      "source": [
        "#diplaying my tensor\n",
        "random_tensor"
      ],
      "metadata": {
        "colab": {
          "base_uri": "https://localhost:8080/"
        },
        "id": "Jt4woibRrCE3",
        "outputId": "78cf5283-5fa3-4071-9468-f19f90a76d82"
      },
      "execution_count": 3,
      "outputs": [
        {
          "output_type": "execute_result",
          "data": {
            "text/plain": [
              "tensor([[9.0459e-01, 6.1551e-02, 6.0653e-01, 5.7977e-01, 2.0673e-01, 8.9263e-01,\n",
              "         7.2410e-02],\n",
              "        [3.5866e-02, 3.0752e-01, 1.1308e-01, 2.2616e-01, 8.1347e-01, 3.9705e-01,\n",
              "         3.7121e-01],\n",
              "        [5.5979e-01, 1.2470e-01, 1.8732e-01, 6.0610e-01, 1.0564e-01, 1.2324e-01,\n",
              "         1.5925e-01],\n",
              "        [3.0823e-01, 7.8159e-01, 6.7143e-01, 6.5205e-02, 5.8866e-04, 1.2449e-01,\n",
              "         4.1684e-01],\n",
              "        [6.7937e-01, 6.0610e-01, 5.1589e-01, 1.4813e-01, 8.3937e-01, 9.1945e-01,\n",
              "         2.9309e-01],\n",
              "        [7.6209e-01, 7.3545e-01, 8.9855e-02, 9.6842e-01, 1.2888e-01, 1.7882e-01,\n",
              "         3.4724e-01],\n",
              "        [5.0335e-01, 1.8511e-01, 7.0827e-01, 1.0602e-01, 2.3649e-01, 3.9617e-02,\n",
              "         9.8467e-01]])"
            ]
          },
          "metadata": {},
          "execution_count": 3
        }
      ]
    },
    {
      "cell_type": "code",
      "source": [
        "# Create the second random tensor called random_tensor2\n",
        "random_tensor2 = torch.rand(1, 7)\n",
        "random_tensor2"
      ],
      "metadata": {
        "colab": {
          "base_uri": "https://localhost:8080/"
        },
        "id": "Lfhe_P-NrIYy",
        "outputId": "ef59dda0-23f1-4ea8-d4f3-765b3fa690ec"
      },
      "execution_count": 4,
      "outputs": [
        {
          "output_type": "execute_result",
          "data": {
            "text/plain": [
              "tensor([[0.0414, 0.1297, 0.7530, 0.0535, 0.7813, 0.0684, 0.9806]])"
            ]
          },
          "metadata": {},
          "execution_count": 4
        }
      ]
    },
    {
      "cell_type": "code",
      "source": [
        " # Perform a matrix multiplication on the tensor from 2 with another random tensor with shape (1, 7)#\n",
        " #Transpose of second matrix\n",
        " random_Tensor_transpose = random_tensor2.t()\n",
        " Matrix_multi = torch.mm(random_tensor, random_Tensor_transpose)\n",
        "Matrix_multi"
      ],
      "metadata": {
        "colab": {
          "base_uri": "https://localhost:8080/"
        },
        "id": "41qdHvCvsOPW",
        "outputId": "cec89482-dfeb-4061-a03d-64db68daefea"
      },
      "execution_count": 5,
      "outputs": [
        {
          "output_type": "execute_result",
          "data": {
            "text/plain": [
              "tensor([[0.8268],\n",
              "        [1.1653],\n",
              "        [0.4600],\n",
              "        [1.0409],\n",
              "        [1.5092],\n",
              "        [0.6998],\n",
              "        [1.7369]])"
            ]
          },
          "metadata": {},
          "execution_count": 5
        }
      ]
    },
    {
      "cell_type": "code",
      "source": [
        "# Set manual seed\n",
        "torch.manual_seed(0)\n",
        "\n",
        "# Create two random tensors\n",
        "random_tensorA = torch.rand(7, 7)\n",
        "random_tensorB = torch.rand(1, 7)\n",
        "\n",
        "# Matrix multiply tensors\n",
        "result = torch.mm(random_tensorA, random_tensorB.t())\n",
        "result"
      ],
      "metadata": {
        "colab": {
          "base_uri": "https://localhost:8080/"
        },
        "id": "zQGELyXXvHsV",
        "outputId": "db8f5ca9-2bd5-438d-a246-aa89f7372b5a"
      },
      "execution_count": 6,
      "outputs": [
        {
          "output_type": "execute_result",
          "data": {
            "text/plain": [
              "tensor([[1.8542],\n",
              "        [1.9611],\n",
              "        [2.2884],\n",
              "        [3.0481],\n",
              "        [1.7067],\n",
              "        [2.5290],\n",
              "        [1.7989]])"
            ]
          },
          "metadata": {},
          "execution_count": 6
        }
      ]
    },
    {
      "cell_type": "code",
      "source": [
        "torch.cuda.manual_seed(0)\n",
        "torch.cuda.manual_seed_all(0)  # If using multi-GPU"
      ],
      "metadata": {
        "id": "fMh6huhr4J1p"
      },
      "execution_count": 7,
      "outputs": []
    },
    {
      "cell_type": "code",
      "source": [
        "#If there is, set the GPU random seed to 1234.\n",
        "torch.cuda.manual_seed(1234)\n",
        "torch.cuda.manual_seed_all(1234)  # If using multi-GPU"
      ],
      "metadata": {
        "id": "yR0Ua58M39D5"
      },
      "execution_count": 8,
      "outputs": []
    },
    {
      "cell_type": "code",
      "source": [
        "#5. Speaking of random seeds, we saw how to set it with torch.manual_seed() but is there a GPU equivalent?\n",
        "#Create two random tensors of shape (2,3)\n",
        "tensor1 = torch.rand(2, 3)\n",
        "tensor2 = torch.rand(2, 3)\n"
      ],
      "metadata": {
        "id": "eKDY9GA25eFN"
      },
      "execution_count": 9,
      "outputs": []
    },
    {
      "cell_type": "code",
      "source": [
        "# Move tensors to GPU (if available)\n",
        "device = torch.device(\"cuda\" if torch.cuda.is_available() else \"cpu\")\n",
        "\n",
        "# Create random tensors\n",
        "tensor1 = torch.rand(2, 3)\n",
        "tensor2 = torch.rand(2, 3)\n",
        "\n",
        "# Move tensors to GPU (if available)\n",
        "tensor1 = tensor1.to(device)\n",
        "tensor2 = tensor2.to(device)\n",
        "\n",
        "# Print the tensors\n",
        "print(tensor1)\n",
        "print(tensor2)"
      ],
      "metadata": {
        "colab": {
          "base_uri": "https://localhost:8080/"
        },
        "id": "02O5nCmc4_FN",
        "outputId": "fa0f801a-eb50-45e0-8594-43555f0ba029"
      },
      "execution_count": 10,
      "outputs": [
        {
          "output_type": "stream",
          "name": "stdout",
          "text": [
            "tensor([[0.8102, 0.9801, 0.1147],\n",
            "        [0.3168, 0.6965, 0.9143]])\n",
            "tensor([[0.9351, 0.9412, 0.5995],\n",
            "        [0.0652, 0.5460, 0.1872]])\n"
          ]
        }
      ]
    },
    {
      "cell_type": "code",
      "source": [
        "#7. Matrix multiplication\n",
        "print(tensor1.size())\n",
        "print(tensor2.size())\n",
        "print(\" \")\n",
        "Matrix_multi2 = torch.mm(tensor1, tensor1.t()) #Transpose the matrix and then multiply\n",
        "print(Matrix_multi2, Matrix_multi2.shape)"
      ],
      "metadata": {
        "colab": {
          "base_uri": "https://localhost:8080/"
        },
        "id": "1ZBDqUhNCBEY",
        "outputId": "2f9eefb9-7289-446d-8e16-491e345ec0aa"
      },
      "execution_count": 11,
      "outputs": [
        {
          "output_type": "stream",
          "name": "stdout",
          "text": [
            "torch.Size([2, 3])\n",
            "torch.Size([2, 3])\n",
            " \n",
            "tensor([[1.6301, 1.0441],\n",
            "        [1.0441, 1.4214]]) torch.Size([2, 2])\n"
          ]
        }
      ]
    },
    {
      "cell_type": "code",
      "source": [
        "#8. Find the maximum and minimum values of the output of 7\n",
        "\n",
        "max_value = Matrix_multi2.max()\n",
        "min_value = Matrix_multi2.min()\n",
        "print(\"Max value: \",max_value)\n",
        "print(\"Min value: \",min_value)\n"
      ],
      "metadata": {
        "colab": {
          "base_uri": "https://localhost:8080/"
        },
        "id": "VGK7a3GcFybl",
        "outputId": "846101b8-b2c5-4bf6-893f-db752bdc29c3"
      },
      "execution_count": 12,
      "outputs": [
        {
          "output_type": "stream",
          "name": "stdout",
          "text": [
            "Max value:  tensor(1.6301)\n",
            "Min value:  tensor(1.0441)\n"
          ]
        }
      ]
    },
    {
      "cell_type": "code",
      "source": [
        "\n",
        "max_index = Matrix_multi2.argmax()  # Index of the maximum\n",
        "min_index = Matrix_multi2.argmin()  # Index of the minimum\n",
        "\n",
        "print(\"Max Index: \",max_index)\n",
        "print(\"Min Index: \",min_index)"
      ],
      "metadata": {
        "colab": {
          "base_uri": "https://localhost:8080/"
        },
        "id": "joGs3LinHCFk",
        "outputId": "de08ae5f-7300-4438-f8dc-9c530b10f470"
      },
      "execution_count": 13,
      "outputs": [
        {
          "output_type": "stream",
          "name": "stdout",
          "text": [
            "Max Index:  tensor(0)\n",
            "Min Index:  tensor(1)\n"
          ]
        }
      ]
    },
    {
      "cell_type": "code",
      "source": [
        "\n",
        "\n",
        "# Set the random seed for reproducibility\n",
        "torch.manual_seed(7)\n",
        "\n",
        "# Create a random tensor with shape (1, 1, 1, 10)\n",
        "random_tensor = torch.rand(1, 1, 1, 10)\n",
        "\n",
        "#all the 1 dimensions removed\n",
        "squeezed_tensor = random_tensor.squeeze()\n",
        "\n",
        "# Print the first tensor and its shape\n",
        "print(\"Original Tensor:\")\n",
        "print(random_tensor)\n",
        "print(\"Shape of Original Tensor:\", random_tensor.shape)\n",
        "\n",
        "# Print the second tensor (after squeezing) and its shape\n",
        "print(\"\\nSqueezed Tensor:\")\n",
        "print(squeezed_tensor)\n",
        "print(\"Shape of Squeezed Tensor:\", squeezed_tensor.shape)\n"
      ],
      "metadata": {
        "colab": {
          "base_uri": "https://localhost:8080/"
        },
        "id": "jPyGEbgjXIk0",
        "outputId": "91ade599-f0b0-49a9-c6bb-fe5774346dd0"
      },
      "execution_count": 14,
      "outputs": [
        {
          "output_type": "stream",
          "name": "stdout",
          "text": [
            "Original Tensor:\n",
            "tensor([[[[0.5349, 0.1988, 0.6592, 0.6569, 0.2328, 0.4251, 0.2071, 0.6297,\n",
            "           0.3653, 0.8513]]]])\n",
            "Shape of Original Tensor: torch.Size([1, 1, 1, 10])\n",
            "\n",
            "Squeezed Tensor:\n",
            "tensor([0.5349, 0.1988, 0.6592, 0.6569, 0.2328, 0.4251, 0.2071, 0.6297, 0.3653,\n",
            "        0.8513])\n",
            "Shape of Squeezed Tensor: torch.Size([10])\n"
          ]
        }
      ]
    },
    {
      "cell_type": "code",
      "source": [
        "!git clone https://github.com/arewadataScience/ArewaDS-Deep-Learning.git"
      ],
      "metadata": {
        "colab": {
          "base_uri": "https://localhost:8080/"
        },
        "id": "zAjhLScc1nMz",
        "outputId": "36c023f1-f8f6-4fd0-e9b6-781eda8b29e6"
      },
      "execution_count": 15,
      "outputs": [
        {
          "output_type": "stream",
          "name": "stdout",
          "text": [
            "Cloning into 'ArewaDS-Deep-Learning'...\n",
            "remote: Enumerating objects: 307, done.\u001b[K\n",
            "remote: Counting objects: 100% (94/94), done.\u001b[K\n",
            "remote: Compressing objects: 100% (55/55), done.\u001b[K\n",
            "remote: Total 307 (delta 82), reused 39 (delta 39), pack-reused 213 (from 2)\u001b[K\n",
            "Receiving objects: 100% (307/307), 11.65 MiB | 25.17 MiB/s, done.\n",
            "Resolving deltas: 100% (151/151), done.\n"
          ]
        }
      ]
    }
  ]
}